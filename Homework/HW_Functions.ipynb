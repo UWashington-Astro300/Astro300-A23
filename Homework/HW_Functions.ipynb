{
 "cells": [
  {
   "cell_type": "markdown",
   "metadata": {},
   "source": [
    "# Python Functions Homework\n",
    "\n",
    "### For variable/function names, use these guidelines:\n",
    "\n",
    "- use only lowercase letters [a-z] and underscores [ _ ]\n",
    "- no blank spaces between the characters\n",
    "- avoid using a single character as a variable/function name\n",
    "- The purpose of the variable/function should be obvious from its name"
   ]
  },
  {
   "cell_type": "code",
   "execution_count": null,
   "metadata": {
    "collapsed": false,
    "jupyter": {
     "outputs_hidden": false
    }
   },
   "outputs": [],
   "source": [
    "import numpy as np"
   ]
  },
  {
   "cell_type": "markdown",
   "metadata": {},
   "source": [
    "# Part I"
   ]
  },
  {
   "cell_type": "markdown",
   "metadata": {
    "tags": []
   },
   "source": [
    "### Write a function that computes the [volume of a sphere](https://en.wikipedia.org/wiki/Sphere#Enclosed_volume)"
   ]
  },
  {
   "cell_type": "code",
   "execution_count": null,
   "metadata": {},
   "outputs": [],
   "source": []
  },
  {
   "cell_type": "markdown",
   "metadata": {},
   "source": [
    "### Use the function to find the volume of a sphere with a radius = 42"
   ]
  },
  {
   "cell_type": "code",
   "execution_count": null,
   "metadata": {},
   "outputs": [],
   "source": []
  },
  {
   "cell_type": "markdown",
   "metadata": {},
   "source": [
    "### Use the function to find the volume of a sphere with a radius = 0.42"
   ]
  },
  {
   "cell_type": "code",
   "execution_count": null,
   "metadata": {},
   "outputs": [],
   "source": []
  },
  {
   "cell_type": "markdown",
   "metadata": {
    "tags": []
   },
   "source": [
    "### Write a function that computes the [kinetic energy](https://en.wikipedia.org/wiki/Kinetic_energy#Newtonian_kinetic_energy) of an object."
   ]
  },
  {
   "cell_type": "code",
   "execution_count": null,
   "metadata": {},
   "outputs": [],
   "source": []
  },
  {
   "cell_type": "markdown",
   "metadata": {},
   "source": [
    "### Use the function to find the kinetic energy of an object of mass 42 and velocity 0.42"
   ]
  },
  {
   "cell_type": "code",
   "execution_count": null,
   "metadata": {},
   "outputs": [],
   "source": []
  },
  {
   "cell_type": "markdown",
   "metadata": {},
   "source": [
    "### Use the function to find the kinetic energy of an object of mass 0.42 and velocity 42"
   ]
  },
  {
   "cell_type": "code",
   "execution_count": null,
   "metadata": {},
   "outputs": [],
   "source": []
  },
  {
   "cell_type": "markdown",
   "metadata": {},
   "source": [
    "# Part II\n",
    "\n",
    "### Write a function called  `find_star_temp` to compute:\n",
    "\n",
    "$$\\large \n",
    "\\textrm{find_star_temp}\\,(\\textrm{star_color}) = 10^{\\,\\textrm{Z}}\n",
    "$$\n",
    "\n",
    "### Where\n",
    "\n",
    "$$\\large \n",
    "\\textrm{Z}\\ =\\ 3.999 − 0.654\\ (\\textrm{star_color}) + 0.709\\ (\\textrm{star_color})^{2} - 0.316\\ (\\textrm{star_color})^{3}\n",
    "$$\n"
   ]
  },
  {
   "cell_type": "code",
   "execution_count": null,
   "metadata": {
    "collapsed": false,
    "jupyter": {
     "outputs_hidden": false
    }
   },
   "outputs": [],
   "source": []
  },
  {
   "cell_type": "markdown",
   "metadata": {},
   "source": [
    "### Here are the values for `star_color` for the 100 brightest stars in the Gaia survey."
   ]
  },
  {
   "cell_type": "code",
   "execution_count": null,
   "metadata": {},
   "outputs": [],
   "source": [
    "star_color = np.array(\n",
    "[1.14, 1.27, 1.18, 1.45, 1.48, 0.53, 0.53, 1.43, 1.33, 1.44,\n",
    "1.44, 0.49, 1.29, 1.09, 1.10, 0.25, 1.10, 1.20, 1.14, 1.15,\n",
    "0.69, 0.44, 1.31, 1.16, 1.09, 1.38, 1.41, 1.02, 1.35, 0.29,\n",
    "1.32, 0.57, 0.92, 1.48, 1.09, 1.23, 1.11, 1.15, 0.06, 1.39,\n",
    "0.11, 0.79, -0.01, 1.15, 0.44, 1.06, 0.63, 0.70, 1.30, 1.25,\n",
    "0.35, 0.69, 1.08, 0.96, 1.22, 0.10, 1.35, 0.90, 1.20, 1.42,\n",
    "-0.06, 1.31, 0.32, 0.01, 0.22, 0.25, 0.69, 1.26, 1.33, 0.20,\n",
    "1.35, 1.35, 1.23, 1.19, 0.03, 1.24, 0.30, 0.07, 0.13, 0.46,\n",
    "0.48, 1.33, 0.10, -0.01, 0.83, 1.25, 0.81, 0.51, 1.15, 0.27,\n",
    "0.34, 1.35, 1.12, 0.03, 1.47, 0.54, -0.08, 0.10, 1.19, 1.17]\n",
    ")"
   ]
  },
  {
   "cell_type": "markdown",
   "metadata": {},
   "source": [
    "### Create an array `bright_temp = find_star_temp(star_color)`"
   ]
  },
  {
   "cell_type": "code",
   "execution_count": null,
   "metadata": {},
   "outputs": [],
   "source": []
  },
  {
   "cell_type": "markdown",
   "metadata": {},
   "source": [
    "### What is the largest value of `bright_temp`?"
   ]
  },
  {
   "cell_type": "code",
   "execution_count": null,
   "metadata": {},
   "outputs": [],
   "source": []
  },
  {
   "cell_type": "markdown",
   "metadata": {},
   "source": [
    "### What is the smallest value of `bright_temp`?"
   ]
  },
  {
   "cell_type": "code",
   "execution_count": null,
   "metadata": {},
   "outputs": [],
   "source": []
  },
  {
   "cell_type": "markdown",
   "metadata": {},
   "source": [
    "### The table below shows the temperature ranges for various spectral classes of stars\n",
    "\n",
    "| Spectral Class| Temperature       |\n",
    "|---------------|-------------------|\n",
    "| O             | > 30,000 K        |\n",
    "| B             | 10,000 - 30,000 K |\n",
    "| A             | 7,500 - 10,000 K  |\n",
    "| F             | 6,000 - 7,500 K   |\n",
    "| G             | 5,200 - 6,000 K   |\n",
    "| K             | 3,700 - 5,200 K   |\n",
    "| M             | 2,400 - 3,700 K   |"
   ]
  },
  {
   "cell_type": "markdown",
   "metadata": {},
   "source": [
    "### What fraction of the 100 brightest Gaia stars are A-type stars"
   ]
  },
  {
   "cell_type": "code",
   "execution_count": null,
   "metadata": {},
   "outputs": [],
   "source": []
  },
  {
   "cell_type": "markdown",
   "metadata": {},
   "source": [
    "### What fraction of the 100 brightest Gaia stars are F-type stars"
   ]
  },
  {
   "cell_type": "code",
   "execution_count": null,
   "metadata": {},
   "outputs": [],
   "source": []
  },
  {
   "cell_type": "markdown",
   "metadata": {},
   "source": [
    "### What fraction of the 100 brightest Gaia stars are G-type stars"
   ]
  },
  {
   "cell_type": "code",
   "execution_count": null,
   "metadata": {},
   "outputs": [],
   "source": []
  },
  {
   "cell_type": "markdown",
   "metadata": {},
   "source": [
    "### What fraction of the 100 brightest Gaia stars are K-type stars"
   ]
  },
  {
   "cell_type": "code",
   "execution_count": null,
   "metadata": {},
   "outputs": [],
   "source": []
  },
  {
   "cell_type": "markdown",
   "metadata": {
    "tags": []
   },
   "source": [
    "### Due Mon Oct 9 - 1 pm\n",
    "- Export notebook as .html: `File -> Save and Export Notebook as -> HTML`\n",
    "- Upload `.html` file to Canvas"
   ]
  },
  {
   "cell_type": "code",
   "execution_count": null,
   "metadata": {},
   "outputs": [],
   "source": []
  }
 ],
 "metadata": {
  "anaconda-cloud": {},
  "kernelspec": {
   "display_name": "Python 3 (ipykernel)",
   "language": "python",
   "name": "python3"
  },
  "language_info": {
   "codemirror_mode": {
    "name": "ipython",
    "version": 3
   },
   "file_extension": ".py",
   "mimetype": "text/x-python",
   "name": "python",
   "nbconvert_exporter": "python",
   "pygments_lexer": "ipython3",
   "version": "3.10.10"
  }
 },
 "nbformat": 4,
 "nbformat_minor": 4
}
