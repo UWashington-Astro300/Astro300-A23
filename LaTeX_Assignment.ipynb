{
 "cells": [
  {
   "cell_type": "markdown",
   "metadata": {},
   "source": [
    "---\n",
    "\n",
    "# Some websites for this assignment:"
   ]
  },
  {
   "cell_type": "markdown",
   "metadata": {},
   "source": [
    "- ## [Overleaf](https://v2.overleaf.com/)\n",
    "\n",
    "- ## [Overleaf Docs and Help](https://v2.overleaf.com/learn)\n",
    "\n",
    "- ## [Latex Symbols](https://en.wikipedia.org/wiki/Wikipedia:LaTeX_symbols)\n",
    "\n",
    "- ## [Latex draw symbols](http://detexify.kirelabs.org/classify.html)\n",
    "\n",
    "- ## [Latex wikibook](https://en.wikibooks.org/wiki/LaTeX)\n",
    "---\n",
    "\n",
    "\n",
    "# [AAS Journals](https://journals.aas.org/)\n",
    "\n",
    "\n",
    "# [The SAO/NASA Astrophysics Data System](https://ui.adsabs.harvard.edu/)\n"
   ]
  },
  {
   "cell_type": "markdown",
   "metadata": {},
   "source": [
    "---\n",
    "\n",
    "# `QTables` can output $\\LaTeX$ tables"
   ]
  },
  {
   "cell_type": "code",
   "execution_count": 1,
   "metadata": {
    "collapsed": false,
    "jupyter": {
     "outputs_hidden": false
    }
   },
   "outputs": [],
   "source": [
    "from astropy.table import QTable\n",
    "from astropy.io import ascii"
   ]
  },
  {
   "cell_type": "code",
   "execution_count": 2,
   "metadata": {
    "collapsed": false,
    "jupyter": {
     "outputs_hidden": false
    }
   },
   "outputs": [],
   "source": [
    "star_table = QTable.read('https://uwashington-astro300.github.io/A300_Data/ObjectList.csv', \n",
    "                           format='ascii.csv')"
   ]
  },
  {
   "cell_type": "code",
   "execution_count": 3,
   "metadata": {
    "collapsed": false,
    "jupyter": {
     "outputs_hidden": false
    }
   },
   "outputs": [
    {
     "data": {
      "text/html": [
       "<div><i>QTable length=3</i>\n",
       "<table id=\"table139643760764976\" class=\"table-striped table-bordered table-condensed\">\n",
       "<thead><tr><th>Name</th><th>RA</th><th>DEC</th></tr></thead>\n",
       "<thead><tr><th>str11</th><th>float64</th><th>float64</th></tr></thead>\n",
       "<tr><td>Aquarius</td><td>22.40784</td><td>-10.15606</td></tr>\n",
       "<tr><td>Aries</td><td>2.66237</td><td>19.95906</td></tr>\n",
       "<tr><td>Cancer</td><td>8.68322</td><td>19.1894</td></tr>\n",
       "</table></div>"
      ],
      "text/plain": [
       "<QTable length=3>\n",
       "  Name      RA       DEC   \n",
       " str11   float64   float64 \n",
       "-------- -------- ---------\n",
       "Aquarius 22.40784 -10.15606\n",
       "   Aries  2.66237  19.95906\n",
       "  Cancer  8.68322   19.1894"
      ]
     },
     "execution_count": 3,
     "metadata": {},
     "output_type": "execute_result"
    }
   ],
   "source": [
    "star_table[0:3]"
   ]
  },
  {
   "cell_type": "code",
   "execution_count": 4,
   "metadata": {
    "collapsed": false,
    "jupyter": {
     "outputs_hidden": false
    },
    "scrolled": true
   },
   "outputs": [
    {
     "name": "stdout",
     "output_type": "stream",
     "text": [
      "\\begin{table}\n",
      "\\begin{tabular}{ccc}\n",
      "Name & RA & DEC \\\\\n",
      "Aquarius & 22.40784 & -10.15606 \\\\\n",
      "Aries & 2.66237 & 19.95906 \\\\\n",
      "Cancer & 8.68322 & 19.1894 \\\\\n",
      "Capricornus & 21.02258 & -18.55051 \\\\\n",
      "Gemini & 7.15585 & 23.25312 \\\\\n",
      "Leo & 10.6933 & 14.78016 \\\\\n",
      "Libra & 15.22447 & -15.15893 \\\\\n",
      "Ophiuchus & 17.30225 & -5.21711 \\\\\n",
      "Pisces & 0.64826 & 10.77037 \\\\\n",
      "Sagittarius & 19.18492 & -27.09177 \\\\\n",
      "Scorpius & 16.79026 & -31.81767 \\\\\n",
      "Taurus & 4.42213 & 16.83941 \\\\\n",
      "Virgo & 13.28989 & -2.63866 \\\\\n",
      "\\end{tabular}\n",
      "\\end{table}\n"
     ]
    }
   ],
   "source": [
    "ascii.write(star_table, format='latex')"
   ]
  },
  {
   "cell_type": "markdown",
   "metadata": {
    "jupyter": {
     "outputs_hidden": false
    }
   },
   "source": [
    "---\n",
    "\n",
    "# [Latex Table Generator](https://www.tablesgenerator.com/)"
   ]
  },
  {
   "cell_type": "markdown",
   "metadata": {},
   "source": [
    "---\n",
    "\n",
    "# $\\LaTeX$ Assignment"
   ]
  },
  {
   "cell_type": "markdown",
   "metadata": {},
   "source": [
    "## Start with the file: `HW_LaTeX.tex` in Overleaf\n",
    "\n",
    "* Make sure to set `Main Document` -> `HW_LaTeX.tex`"
   ]
  },
  {
   "cell_type": "markdown",
   "metadata": {},
   "source": [
    "## Minimum required elements (15 pts):\n",
    "\n",
    "* Aim for 4 pages in length (more is fine).\n",
    "* At least two paragraphs of text.\n",
    "  * The text does not have to be anything specific - just be readable.\n",
    "* At least 5 references from ADS.\n",
    "  * The references do not need to relate to anything - just 5 references .\n",
    "  * Make sure to `\\citep{KEY}` or `\\citet{KEY}` the references in your paper.\n",
    "* Typeset the following equation:\n",
    "\n",
    "<p align=\"center\"> \n",
    "<img src=\"https://uwashington-astro300.github.io/A300_images/Equation_A22.png\" width = \"600\">\n",
    "</p>\n",
    "\n",
    "* Typeset one (or more) equation(s) of your choice.\n",
    "* Include the plot you generated of the Gaia CMD (`My_Cool_Plot.png`).\n",
    "* One other plot/image (do not reuse and old one from this class!).\n",
    "* One table of at least 2 columns and 2 rows (not the `star_table` from above!).\n"
   ]
  },
  {
   "cell_type": "markdown",
   "metadata": {},
   "source": [
    "## Want more points?\n",
    "\n",
    "* Make your paper coherent - tie everything together.\n",
    "* Make the content interesting (for some definition of interesting).\n",
    "* Convince me you spent some time working on the assignment.\n"
   ]
  },
  {
   "cell_type": "markdown",
   "metadata": {},
   "source": [
    "---\n",
    "\n",
    "## Due: Fri Mar 15 at 5 pm\n",
    "\n",
    "* Upload the PDF to the class canvas site\n",
    "* This is the last assignment of the quarter\n",
    "\n",
    "I am not going to look at/grade the assignments until the due date.   \n",
    "So, no sending them back to you with comments to fix.  \n",
    "You can resubmit as many times as you want before the deadline - I will look at the last submission.\n",
    "\n",
    "Of course, if you have any questions while you are working on the assignment - feel free to email me.\n"
   ]
  },
  {
   "cell_type": "code",
   "execution_count": null,
   "metadata": {},
   "outputs": [],
   "source": []
  }
 ],
 "metadata": {
  "anaconda-cloud": {},
  "kernelspec": {
   "display_name": "Python 3 (ipykernel)",
   "language": "python",
   "name": "python3"
  },
  "language_info": {
   "codemirror_mode": {
    "name": "ipython",
    "version": 3
   },
   "file_extension": ".py",
   "mimetype": "text/x-python",
   "name": "python",
   "nbconvert_exporter": "python",
   "pygments_lexer": "ipython3",
   "version": "3.10.10"
  }
 },
 "nbformat": 4,
 "nbformat_minor": 4
}
